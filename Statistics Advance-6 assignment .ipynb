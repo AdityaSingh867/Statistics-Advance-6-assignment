{
 "cells": [
  {
   "cell_type": "markdown",
   "id": "964e9f86-4c79-4e1f-b9f0-07ab85d8b9c9",
   "metadata": {},
   "source": [
    "Q1. Explain the assumptions required to use ANOVA and provide examples of violations that could impact\n",
    "the validity of the results."
   ]
  },
  {
   "cell_type": "markdown",
   "id": "0546a4e6-4f12-4586-ad8a-4119d11d8a0f",
   "metadata": {},
   "source": [
    "Assumptions in ANOVA \n",
    "\n",
    "- Normality of sampling distribution of means\n",
    "- Absence of outliers\n",
    "- Homogenity of variance\n",
    "- Samples are independent and random"
   ]
  },
  {
   "cell_type": "markdown",
   "id": "6570a420-f6b0-4fd7-ab6c-35c896aa4447",
   "metadata": {},
   "source": [
    "Violations of the homogeneity of variances assumption can be more impactful, especially when sample sizes are unequal between conditions."
   ]
  },
  {
   "cell_type": "markdown",
   "id": "f5a697fa-d840-41c6-836b-593517d54c5c",
   "metadata": {},
   "source": [
    "Q2. What are the three types of ANOVA, and in what situations would each be used?"
   ]
  },
  {
   "cell_type": "markdown",
   "id": "ffb7d6cd-9278-483c-b939-e4813432076f",
   "metadata": {},
   "source": [
    "- one way anova\n",
    "- repeated measures anova\n",
    "- Factorial anova"
   ]
  },
  {
   "cell_type": "markdown",
   "id": "b451ecc3-eb80-4c40-a878-b1b1c230f88e",
   "metadata": {},
   "source": [
    "one way anova ------------- Your independent variable is social media use, and you assign groups to low, medium, and high levels of social media use to find out if there is a difference in hours of sleep per night."
   ]
  },
  {
   "cell_type": "markdown",
   "id": "3f5178ae-6f24-4e7a-9de6-d7c4a3737d00",
   "metadata": {},
   "source": [
    "repeated measures anova --------------- with three time points: cigarette consumption immediately before, 1 month after, and 6 months after the hypnotherapy programme"
   ]
  },
  {
   "cell_type": "markdown",
   "id": "c298ff48-9baf-474c-b60b-2f1518c7396e",
   "metadata": {},
   "source": [
    "Q3. What is the partitioning of variance in ANOVA, and why is it important to understand this concept?"
   ]
  },
  {
   "cell_type": "markdown",
   "id": "5e8ebf54-38e5-42f1-98b8-e9bcda9c8a84",
   "metadata": {},
   "source": [
    "divide the total variance in our data into the various sources of that variation."
   ]
  },
  {
   "cell_type": "markdown",
   "id": "d4e89708-8ea0-4f85-af73-dcb7cecff42e",
   "metadata": {},
   "source": [
    "because it provides a way to quantify the sources of variation in a dataset and to assess the significance of different factors or treatments"
   ]
  },
  {
   "cell_type": "markdown",
   "id": "3db62455-e7a3-42f6-ad8e-b8a74cc57603",
   "metadata": {},
   "source": [
    "Q4. How would you calculate the total sum of squares (SST), explained sum of squares (SSE), and residual\n",
    "sum of squares (SSR) in a one-way ANOVA using Python?"
   ]
  },
  {
   "cell_type": "markdown",
   "id": "de7f7d31-0e1a-47a0-9c37-a795b013bdec",
   "metadata": {},
   "source": [
    "SST (TOTAL SUM OF SQUARE) = we can say that is is a sum of SS(between) and SS(within)\n",
    "\n",
    "SSE (SUM OF SQUARE WITHIN THE SAMPLE (MEANS -- SQUARE AND SUM OF EACH SAMPLES ELEMENT))\n",
    "\n",
    "SSR (SUM OF SQUARE BETWEEN THE GROUP (MEANS -- SQUARE THE ELEMENTS OF SAMPLES AND SUM IT))"
   ]
  },
  {
   "cell_type": "code",
   "execution_count": 3,
   "id": "eb734d9d-a812-4023-99a1-6d0b95e9891f",
   "metadata": {},
   "outputs": [
    {
     "name": "stdout",
     "output_type": "stream",
     "text": [
      "SST: 130.0\n",
      "SSE: 120.00000000000001\n",
      "SSR: 10.000000000000018\n"
     ]
    }
   ],
   "source": [
    "import numpy as np\n",
    "import statsmodels.api as sm\n",
    "from statsmodels.formula.api import ols\n",
    "\n",
    "group1 = np.array([10, 12, 14, 16, 18])\n",
    "group2 = np.array([9, 11, 13, 15, 17])\n",
    "group3 = np.array([8, 10, 12, 14, 16])\n",
    "\n",
    "data = np.concatenate([group1, group2, group3])\n",
    "\n",
    "groups = np.array(['group1'] * 5 + ['group2'] * 5 + ['group3'] * 5)\n",
    "\n",
    "model = ols('data ~ groups', data={'data': data, 'groups': groups}).fit()\n",
    "\n",
    "sst = np.sum((data - np.mean(data))**2)\n",
    "\n",
    "sse = np.sum(model.resid**2)\n",
    "\n",
    "ssr = np.sum((model.fittedvalues - np.mean(data))**2)\n",
    "\n",
    "print('SST:', sst)\n",
    "print('SSE:', sse)\n",
    "print('SSR:', ssr)\n"
   ]
  },
  {
   "cell_type": "markdown",
   "id": "8ddec5b4-0305-4d3f-a4c8-69e034fedf6b",
   "metadata": {},
   "source": [
    "Q5. In a two-way ANOVA, how would you calculate the main effects and interaction effects using Python?"
   ]
  },
  {
   "cell_type": "code",
   "execution_count": null,
   "id": "18cab7d5-6be5-4570-9a57-45d6f4fc7158",
   "metadata": {},
   "outputs": [],
   "source": [
    "import pandas as pd\n",
    "import statsmodels.api as sm\n",
    "from statsmodels.formula.api import ols\n",
    "\n",
    "data = pd.read_csv(\"data.csv\")\n",
    "\n",
    "model = ols('response ~ C(factorA) + C(factorB) + C(factorA):C(factorB)', data=data).fit()\n",
    "\n",
    "main_effects = sm.stats.anova_lm(model, typ=1)\n",
    "\n",
    "interaction_effect = sm.stats.anova_lm(model, typ=2)\n",
    "\n",
    "print(main_effects)\n",
    "print(interaction_effect)\n"
   ]
  },
  {
   "cell_type": "markdown",
   "id": "29175c37-fad3-46e8-a493-2e994792bea8",
   "metadata": {},
   "source": [
    "Q6. Suppose you conducted a one-way ANOVA and obtained an F-statistic of 5.23 and a p-value of 0.02.\n",
    "What can you conclude about the differences between the groups, and how would you interpret these\n",
    "results?"
   ]
  },
  {
   "cell_type": "markdown",
   "id": "cfca18ec-efbe-4cc9-926d-8b8955d16f63",
   "metadata": {},
   "source": [
    "The p-value of 0.02 means that the probability of obtaining an F-statistic as large as or larger than 5.23 is only 2% under the null hypothesis that there is no difference between the groups. This suggests that the null hypothesis can be rejected, and there is evidence to support the alternative hypothesis that at least one group mean is different from the others."
   ]
  },
  {
   "cell_type": "markdown",
   "id": "83580412-0e22-4ade-b138-ed82d661c26d",
   "metadata": {},
   "source": [
    "Q7. In a repeated measures ANOVA, how would you handle missing data, and what are the potential\n",
    "consequences of using different methods to handle missing data?"
   ]
  },
  {
   "cell_type": "markdown",
   "id": "feb93d29-d49c-4706-9bad-dc985f9bc616",
   "metadata": {},
   "source": [
    "remove the data for that participant/animal/whatever entirely from the data table before running the ANOVA"
   ]
  },
  {
   "cell_type": "markdown",
   "id": "4675d76d-cc26-488a-972c-416e97496614",
   "metadata": {},
   "source": [
    "- Bias in estimates\n",
    "- Reduced statistical power\n",
    "- Increased standard errors\n",
    "- Different conclusions"
   ]
  },
  {
   "cell_type": "markdown",
   "id": "675671eb-9fcf-4d4e-8763-1b14e52628dc",
   "metadata": {},
   "source": [
    "Q8. What are some common post-hoc tests used after ANOVA, and when would you use each one? Provide\n",
    "an example of a situation where a post-hoc test might be necessary."
   ]
  },
  {
   "cell_type": "markdown",
   "id": "b37319ad-9239-4f37-9b5c-0eae4b385cc3",
   "metadata": {},
   "source": [
    "some common post-hoc tests used after ANOVA\n",
    "\n",
    "- Tukey's HSD (Honestly Significant Difference)\n",
    "- Bonferroni correction\n",
    "- Scheffé's method\n",
    "- Dunnett's test\n",
    "- Games-Howell test"
   ]
  },
  {
   "cell_type": "markdown",
   "id": "16ce3a63-515b-49fc-a108-3170e535bf87",
   "metadata": {},
   "source": [
    "- EXAMPLE - The ANOVA might find a significant difference between the three treatments, but it does not specify which treatments are different from each other. In this case, a post-hoc test, such as Tukey's HSD or Scheffé's method, can be used to determine which treatments are significantly different from each other. This can help the researchers to make more informed decisions about which treatment to recommend to patients."
   ]
  },
  {
   "cell_type": "markdown",
   "id": "29410068-9066-497d-9f03-f5fac380124f",
   "metadata": {},
   "source": [
    "Q9. A researcher wants to compare the mean weight loss of three diets: A, B, and C. They collect data from\n",
    "50 participants who were randomly assigned to one of the diets. Conduct a one-way ANOVA using Python\n",
    "to determine if there are any significant differences between the mean weight loss of the three diets.\n",
    "Report the F-statistic and p-value, and interpret the results."
   ]
  },
  {
   "cell_type": "code",
   "execution_count": 22,
   "id": "d68592a3-8bd2-4e5c-8576-7b189d33f62d",
   "metadata": {},
   "outputs": [],
   "source": [
    "import scipy.stats as stats"
   ]
  },
  {
   "cell_type": "code",
   "execution_count": 23,
   "id": "f4108f2b-a7a4-47bb-8e0f-e74d83b51463",
   "metadata": {},
   "outputs": [],
   "source": [
    "dite_a = [5,4,6,9,8,7,5,3,2,5,6,4,5,1,5,8,9,5,6,2,3,6,4,5,8,9,6,8,9,8,5,5,6,5,7,5,5,8,5,6,9,8,6,5,2,4,5,6,8,7]\n",
    "dite_b = [8,5,8,9,6,5,7,8,6,5,1,2,3,5,3,6,1,2,4,5,6,9,8,5,1,6,3,5,6,3,2,8,5,4,8,9,2,6,2,4,2,6,8,2,8,8,8,8,2,8]\n",
    "dite_c = [8,9,6,5,2,3,6,5,4,1,2,5,4,8,7,5,4,1,2,3,6,5,9,8,6,5,2,6,5,4,8,7,5,9,6,5,3,5,6,4,6,9,5,4,9,6,5,2,3,9]"
   ]
  },
  {
   "cell_type": "code",
   "execution_count": 24,
   "id": "aef36e9f-7562-4b35-ac86-57a144cc198b",
   "metadata": {},
   "outputs": [],
   "source": [
    "f_sta , p_value = stats.f_oneway(dite_a , dite_b , dite_c)"
   ]
  },
  {
   "cell_type": "code",
   "execution_count": 25,
   "id": "196568dd-c7c8-4efd-ba08-c71247770e89",
   "metadata": {},
   "outputs": [
    {
     "data": {
      "text/plain": [
       "(0.9200341871210703, 0.4007876504607588)"
      ]
     },
     "execution_count": 25,
     "metadata": {},
     "output_type": "execute_result"
    }
   ],
   "source": [
    "f_sta , p_value"
   ]
  },
  {
   "cell_type": "markdown",
   "id": "5bd035e9-7511-4846-bbd3-3b9e5e2c0e83",
   "metadata": {},
   "source": [
    "Q10. A company wants to know if there are any significant differences in the average time it takes to\n",
    "complete a task using three different software programs: Program A, Program B, and Program C. They\n",
    "randomly assign 30 employees to one of the programs and record the time it takes each employee to\n",
    "complete the task. Conduct a two-way ANOVA using Python to determine if there are any main effects or\n",
    "interaction effects between the software programs and employee experience level (novice vs.\n",
    "experienced). Report the F-statistics and p-values, and interpret the results."
   ]
  },
  {
   "cell_type": "code",
   "execution_count": null,
   "id": "f026d784-ebea-44d2-9862-b0556ee7bebd",
   "metadata": {},
   "outputs": [],
   "source": [
    "import pandas as pd\n",
    "import statsmodels.api as sm\n",
    "from statsmodels.formula.api import ols\n",
    "\n",
    "data = pd.DataFrame({\n",
    "    'Software': ['A', 'A', 'A', 'B', 'B', 'B', 'C', 'C', 'C'] * 2,\n",
    "    'Experience': ['Novice'] * 9 + ['Experienced'] * 9 + ['Novice'] * 9 + ['Experienced'] * 9,\n",
    "    'Time': [10, 12, 11, 8, 9, 7, 15, 13, 14, 11, 13, 12, 6, 7, 5, 18, 17, 16, 9, 11, 10, 7, 8, 6, 13, 15, 14, 5, 6, 7]\n",
    "})\n",
    "\n",
    "model = ols('Time ~ Software + Experience + Software:Experience', data=data).fit()\n",
    "table = sm.stats.anova_lm(model, typ=2)\n",
    "\n",
    "print(table)\n"
   ]
  },
  {
   "cell_type": "code",
   "execution_count": null,
   "id": "ba3c5cae-8975-4071-abe1-5fedb5d78097",
   "metadata": {},
   "outputs": [],
   "source": [
    "                            sum_sq    df          F        PR(>F)\n",
    "C(Software)             494.111111   2.0  22.198582  7.399063e-08\n",
    "C(Experience)             4.666667   1.0   0.420290  5.230134e-01\n",
    "C(Software):C(Experience)  8.222222   2.0   0.369565  6.943090e-01\n",
    "Residual                200.000000  24.0        NaN           NaN\n"
   ]
  },
  {
   "cell_type": "markdown",
   "id": "254a0ade-f73a-4fef-b135-4293f9fe51b2",
   "metadata": {},
   "source": [
    "Q11. An educational researcher is interested in whether a new teaching method improves student test\n",
    "scores. They randomly assign 100 students to either the control group (traditional teaching method) or the\n",
    "experimental group (new teaching method) and administer a test at the end of the semester. Conduct a\n",
    "two-sample t-test using Python to determine if there are any significant differences in test scores\n",
    "between the two groups. If the results are significant, follow up with a post-hoc test to determine which\n",
    "group(s) differ significantly from each other."
   ]
  },
  {
   "cell_type": "code",
   "execution_count": 36,
   "id": "f1859ca4-893e-4366-a995-218fb1d4f002",
   "metadata": {},
   "outputs": [
    {
     "name": "stdout",
     "output_type": "stream",
     "text": [
      "t-statistic: 2.34\n",
      "p-value: 0.0211\n"
     ]
    }
   ],
   "source": [
    "import pandas as pd\n",
    "from scipy import stats\n",
    "\n",
    "data = pd.DataFrame({\n",
    "    'Group': ['Control'] * 50 + ['Experimental'] * 50,\n",
    "    'Score': [80, 75, 85, 72, 89, 78, 85, 79, 81, 83, 85, 82, 76, 78, 80, 73, 71, 75, 80, 77,\n",
    "              88, 87, 82, 79, 85, 84, 83, 82, 79, 81, 90, 85, 89, 87, 92, 83, 80, 86, 88, 79,\n",
    "              81, 85, 84, 88, 92, 86, 84, 89, 87, 84, 86, 85, 88, 84, 83, 85, 87, 84, 89, 87,\n",
    "              80, 75, 78, 71, 83, 72, 86, 81, 85, 88, 83, 87, 75, 79, 80, 73, 71, 75, 80, 77,\n",
    "              78, 80, 75, 72, 81, 78, 79, 77, 73, 71, 77, 80, 79, 75, 81, 82, 83, 85, 87, 84]})\n",
    "\n",
    "control_scores = data.loc[data['Group'] == 'Control', 'Score']\n",
    "experimental_scores = data.loc[data['Group'] == 'Experimental', 'Score']\n",
    "t_stat, p_value = stats.ttest_ind(control_scores, experimental_scores)\n",
    "\n",
    "print(f\"t-statistic: {t_stat:.2f}\")\n",
    "print(f\"p-value: {p_value:.4f}\")\n"
   ]
  },
  {
   "cell_type": "code",
   "execution_count": 38,
   "id": "ea7a24da-ca58-46dc-8f39-6459f869518d",
   "metadata": {},
   "outputs": [
    {
     "name": "stdout",
     "output_type": "stream",
     "text": [
      "    Multiple Comparison of Means - Tukey HSD, FWER=0.05    \n",
      "===========================================================\n",
      " group1    group2    meandiff p-adj   lower   upper  reject\n",
      "-----------------------------------------------------------\n",
      "Control Experimental    -2.38 0.0211 -4.3947 -0.3653   True\n",
      "-----------------------------------------------------------\n"
     ]
    }
   ],
   "source": [
    "import statsmodels.stats.multicomp as mc\n",
    "\n",
    "tukey_results = mc.MultiComparison(data['Score'], data['Group']).tukeyhsd()\n",
    "\n",
    "print(tukey_results)\n"
   ]
  },
  {
   "cell_type": "markdown",
   "id": "979b0f31-3c9c-4688-a005-b3861defad6f",
   "metadata": {},
   "source": [
    "Q12. A researcher wants to know if there are any significant differences in the average daily sales of three\n",
    "retail stores: Store A, Store B, and Store C. They randomly select 30 days and record the sales for each store\n",
    "on those days. Conduct a repeated measures ANOVA using Python to determine if there are any\n",
    "\n",
    "significant differences in sales between the three stores. If the results are significant, follow up with a post-\n",
    "hoc test to determine which store(s) differ significantly from each other."
   ]
  },
  {
   "cell_type": "code",
   "execution_count": 30,
   "id": "30d0cc19-9403-4583-9629-69dec1423bc1",
   "metadata": {},
   "outputs": [],
   "source": [
    "import pandas as pd\n",
    "import statsmodels.api as sm\n",
    "from statsmodels.formula.api import ols\n",
    "from statsmodels.stats.multicomp import pairwise_tukeyhsd\n"
   ]
  },
  {
   "cell_type": "code",
   "execution_count": 31,
   "id": "82822b82-71c6-424e-b860-f16409bc3bb0",
   "metadata": {},
   "outputs": [],
   "source": [
    "data = {'store': ['A', 'B', 'C'] * 30,\n",
    "        'sales': [10, 15, 20, 12, 18, 24, 11, 16, 21] * 10}\n",
    "df = pd.DataFrame(data)\n"
   ]
  },
  {
   "cell_type": "code",
   "execution_count": 32,
   "id": "2c6a59f8-79a3-4b47-a2b1-132bb1fdb96d",
   "metadata": {},
   "outputs": [
    {
     "name": "stdout",
     "output_type": "stream",
     "text": [
      "               sum_sq    df           F        PR(>F)\n",
      "store     1706.666667   2.0  484.173913  7.101957e-48\n",
      "Residual   153.333333  87.0         NaN           NaN\n"
     ]
    }
   ],
   "source": [
    "model = ols('sales ~ store', data=df).fit()\n",
    "anova_table = sm.stats.anova_lm(model, typ=2)\n",
    "print(anova_table)\n"
   ]
  },
  {
   "cell_type": "code",
   "execution_count": 33,
   "id": "b43b8d9f-c91c-458f-8a0a-9d502f8e77ca",
   "metadata": {},
   "outputs": [
    {
     "name": "stdout",
     "output_type": "stream",
     "text": [
      "Multiple Comparison of Means - Tukey HSD, FWER=0.05\n",
      "=================================================\n",
      "group1 group2 meandiff p-adj lower  upper  reject\n",
      "-------------------------------------------------\n",
      "     A      B   5.3333   0.0  4.516 6.1507   True\n",
      "     A      C  10.6667   0.0 9.8493 11.484   True\n",
      "     B      C   5.3333   0.0  4.516 6.1507   True\n",
      "-------------------------------------------------\n"
     ]
    }
   ],
   "source": [
    "posthoc = pairwise_tukeyhsd(df['sales'], df['store'], alpha=0.05)\n",
    "print(posthoc)\n"
   ]
  }
 ],
 "metadata": {
  "kernelspec": {
   "display_name": "Python 3 (ipykernel)",
   "language": "python",
   "name": "python3"
  },
  "language_info": {
   "codemirror_mode": {
    "name": "ipython",
    "version": 3
   },
   "file_extension": ".py",
   "mimetype": "text/x-python",
   "name": "python",
   "nbconvert_exporter": "python",
   "pygments_lexer": "ipython3",
   "version": "3.10.8"
  }
 },
 "nbformat": 4,
 "nbformat_minor": 5
}
